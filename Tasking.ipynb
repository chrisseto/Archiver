{
 "metadata": {
  "name": "",
  "signature": "sha256:cb8641321fe58047a5ed10bfaee8562572b72ed1b337b0908f21de8b5cbce4d1"
 },
 "nbformat": 3,
 "nbformat_minor": 0,
 "worksheets": [
  {
   "cells": [
    {
     "cell_type": "code",
     "collapsed": false,
     "input": [
      "import copy\n",
      "import json\n",
      "import string\n",
      "import random\n",
      "import requests"
     ],
     "language": "python",
     "metadata": {},
     "outputs": []
    },
    {
     "cell_type": "code",
     "collapsed": false,
     "input": [
      "id = ''.join(random.choice(string.ascii_uppercase + string.digits) for _ in range(5))\n",
      "id"
     ],
     "language": "python",
     "metadata": {},
     "outputs": []
    },
    {
     "cell_type": "code",
     "collapsed": false,
     "input": [
      "headers = {'Content-type': 'application/json', 'Accept': 'text/plain'}\n",
      "container = {\n",
      "    \"container\": {\n",
      "        \"metadata\": {\n",
      "            \"id\": id,\n",
      "            \"title\": \"example project\",\n",
      "            \"description\": \"\",\n",
      "            \"contributors\": [\n",
      "                \"john smith\"\n",
      "            ]\n",
      "        },\n",
      "        \"services\": [\n",
      "            {\n",
      "                \"s3\": {\n",
      "                        'access_key': 'CHANGE ME',\n",
      "                        'secret_key': 'CHANGE ME',\n",
      "                        'bucket': 'CHANGE ME'\n",
      "                },\n",
      "            },\n",
      "            {\n",
      "                \"dropbox\": {\n",
      "                        'access_token': 'CHANGE ME',\n",
      "                        'folder': '/'\n",
      "                }\n",
      "            }\n",
      "        ],\n",
      "        \"children\": []\n",
      "    }\n",
      "}"
     ],
     "language": "python",
     "metadata": {},
     "outputs": []
    },
    {
     "cell_type": "code",
     "collapsed": false,
     "input": [
      "ret = requests.post('http://192.168.111.111:7000/', data=json.dumps(container), headers=headers)\n",
      "ret"
     ],
     "language": "python",
     "metadata": {},
     "outputs": []
    },
    {
     "cell_type": "code",
     "collapsed": false,
     "input": [
      "ret.text"
     ],
     "language": "python",
     "metadata": {},
     "outputs": []
    },
    {
     "cell_type": "code",
     "collapsed": false,
     "input": [],
     "language": "python",
     "metadata": {},
     "outputs": []
    },
    {
     "cell_type": "code",
     "collapsed": false,
     "input": [],
     "language": "python",
     "metadata": {},
     "outputs": []
    }
   ],
   "metadata": {}
  }
 ]
}